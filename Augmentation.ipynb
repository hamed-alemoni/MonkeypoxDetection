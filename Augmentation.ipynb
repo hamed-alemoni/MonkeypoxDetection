{
 "cells": [
  {
   "cell_type": "code",
   "execution_count": null,
   "metadata": {},
   "outputs": [],
   "source": [
    "from tensorflow.keras.preprocessing.image import ImageDataGenerator\n",
    "import numpy as np\n",
    "from skimage import io\n",
    "import os\n",
    "from PIL import Image\n",
    "import random\n",
    "import cv2"
   ]
  },
  {
   "cell_type": "markdown",
   "metadata": {},
   "source": [
    "You should create a directoy with MSID name and create 4 folders as follows: normal, monkeypox, chickenpox, measles plus 4 more folders as follows: normal_augmented, monkeypox_augmented, chickenpox_augmented, measles_augmented so we have 8 folders in MSID you can change all this in below blocks."
   ]
  },
  {
   "cell_type": "markdown",
   "metadata": {},
   "source": [
    "Augmented size would be 48 but every 8 augmented image would be with one of the noise function "
   ]
  },
  {
   "cell_type": "code",
   "execution_count": null,
   "metadata": {},
   "outputs": [],
   "source": [
    "augmentation_batch_sizes = [293, 279, 107, 91]\n",
    "SIZE = 224\n",
    "AUGMENTED_SIZE = (48 // 6)\n",
    "base_directory = '/content/drive/MyDrive/MSID/'\n",
    "paths = ['normal', 'monkeypox', 'chickenpox', 'measles']\n",
    "number_of_classes = len(paths)"
   ]
  },
  {
   "cell_type": "markdown",
   "metadata": {},
   "source": [
    "Our six noise function would be: add_salt_and_pepper_noise, add_salt_noise, add_pepper_noise, add_gaussian_noise and change color"
   ]
  },
  {
   "cell_type": "code",
   "execution_count": null,
   "metadata": {},
   "outputs": [],
   "source": [
    "def add_salt_and_pepper_noise(image):\n",
    "\n",
    "    image = np.array(image)\n",
    "\n",
    "    change_pixel_color(image, 255)\n",
    "\n",
    "    change_pixel_color(image, 0)\n",
    "\n",
    "    return image\n",
    "\n",
    "def add_salt_noise(image):\n",
    "\n",
    "    image = np.array(image)\n",
    "\n",
    "    change_pixel_color(image, 255)\n",
    "\n",
    "    return image\n",
    "\n",
    "def add_pepper_noise(image):\n",
    "\n",
    "    image = np.array(image)\n",
    "\n",
    "    change_pixel_color(image, 0)\n",
    "\n",
    "    return image\n",
    "\n",
    "# change the color of a pixel which choose ranomly\n",
    "def change_pixel_color(image, color=0):\n",
    "\n",
    "    # Getting the dimensions of the image\n",
    "    row , column, channels = image.shape\n",
    "\n",
    "    # number of pixels which will be have noise\n",
    "    number_of_pixels = np.random.randint(100, 350)\n",
    "\n",
    "    for i in range(number_of_pixels):\n",
    "\n",
    "        # Pick a random y coordinate\n",
    "        y_coordinate = np.random.randint(0, row - 1)\n",
    "\n",
    "        # Pick a random x coordinate\n",
    "        x_coordinate = np.random.randint(0, column - 1)\n",
    "\n",
    "        # Color that pixel to white\n",
    "        image[y_coordinate][x_coordinate] = color"
   ]
  },
  {
   "cell_type": "code",
   "execution_count": null,
   "metadata": {},
   "outputs": [],
   "source": [
    "def add_gaussian_noise(image):\n",
    "\n",
    "    # get the shape of image\n",
    "    row, column, channel = image.shape\n",
    "\n",
    "    # initialize required variables to create guassian noise\n",
    "    mean = 0\n",
    "    variance = random.uniform(0.005, 0.02)\n",
    "    sigma = variance ** 0.5\n",
    "\n",
    "    # prepare the noise\n",
    "    gaussian_noise = np.random.normal(mean,sigma,(row, column, channel))\n",
    "    gaussian_noise = gaussian_noise.reshape(row, column, channel)\n",
    "\n",
    "    # add the noise to the image\n",
    "    noisy_image = image + gaussian_noise\n",
    "\n",
    "    return noisy_image"
   ]
  },
  {
   "cell_type": "code",
   "execution_count": null,
   "metadata": {},
   "outputs": [],
   "source": [
    "def change_color(image):\n",
    "    image = np.array(image)\n",
    "    # convert to grastyle\n",
    "    bgr_image = cv2.cvtColor(image, cv2.COLOR_BGR2RGB)\n",
    "    # add new dimontion to have equal shape like RGB\n",
    "    return bgr_image"
   ]
  },
  {
   "cell_type": "markdown",
   "metadata": {},
   "source": [
    "You can set your configuration for augmentation."
   ]
  },
  {
   "cell_type": "code",
   "execution_count": null,
   "metadata": {},
   "outputs": [],
   "source": [
    "def create_image_data_generators() -> list:\n",
    "    # save all functions that we want apply on images\n",
    "    preprocessing_functions = [add_gaussian_noise, add_salt_and_pepper_noise, add_salt_noise, add_pepper_noise, change_color, None]\n",
    "    # create generators according to number of our functions\n",
    "    generators = []\n",
    "    for function in preprocessing_functions:\n",
    "\n",
    "        generator = ImageDataGenerator(\n",
    "            rescale=1.0/255.0,\n",
    "            brightness_range=(0.5, 1),\n",
    "            vertical_flip=True,\n",
    "            horizontal_flip=True,\n",
    "            channel_shift_range= random.uniform(0.0, 0.4),\n",
    "            zoom_range=random.uniform(0.0, 0.4),\n",
    "            rotation_range=90,\n",
    "            height_shift_range=random.uniform(0.0, 0.4),\n",
    "            width_shift_range=random.uniform(0.0, 0.4),\n",
    "            shear_range=random.uniform(0.0, 0.4),\n",
    "            preprocessing_function=function,\n",
    "            fill_mode='reflect'\n",
    "        )\n",
    "\n",
    "        generators.append(generator)\n",
    "\n",
    "    return generators"
   ]
  },
  {
   "cell_type": "code",
   "execution_count": null,
   "metadata": {},
   "outputs": [],
   "source": [
    "def augmentation_images(path: str, augmentation_batch_size: int, generators: list) -> None:\n",
    "    counter = 0\n",
    "    for generator in generators:\n",
    "        original_images = generator.flow_from_directory(directory=path,\n",
    "                                                 batch_size=augmentation_batch_size,\n",
    "                                                 target_size=(SIZE, SIZE),\n",
    "                                                 color_mode=\"rgb\",\n",
    "                                                 save_to_dir=f'{path}_augmented',\n",
    "                                                 save_prefix='aug',\n",
    "                                                 save_format='png')\n",
    "        for _ in original_images:\n",
    "\n",
    "            counter += 1\n",
    "            print(f'{original_images.save_to_dir}: {counter}')\n",
    "            if counter > AUGMENTED_SIZE:\n",
    "                break\n",
    "\n",
    "        counter = 0"
   ]
  },
  {
   "cell_type": "code",
   "execution_count": null,
   "metadata": {},
   "outputs": [],
   "source": [
    "generators = create_image_data_generators()\n",
    "for i in range(number_of_classes):\n",
    "    augmentation_images(base_directory + paths[i], augmentation_batch_sizes[i], generators)"
   ]
  }
 ],
 "metadata": {
  "language_info": {
   "name": "python"
  }
 },
 "nbformat": 4,
 "nbformat_minor": 2
}
